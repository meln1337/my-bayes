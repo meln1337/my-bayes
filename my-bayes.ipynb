{
 "cells": [
  {
   "cell_type": "code",
   "execution_count": 76,
   "metadata": {},
   "outputs": [],
   "source": [
    "import numpy as np\n",
    "import pandas as pd"
   ]
  },
  {
   "cell_type": "code",
   "execution_count": 77,
   "metadata": {},
   "outputs": [],
   "source": [
    "def estimate_probability(*params):\n",
    "    if len(params) == 2:\n",
    "        o = params[0]\n",
    "        t = params[1]\n",
    "        return (o * t) * (o * t + t * o)\n",
    "    else:\n",
    "        print(params)\n",
    "        first_params = params\n",
    "        mul = params[0]\n",
    "        params = params[1:]\n",
    "        sec_mul = first_params[0] * (np.sum(params))\n",
    "        for idx, i in enumerate(params):\n",
    "            arr = params\n",
    "            np.delete(arr, idx, 0)\n",
    "            sec_mul += (i * np.sum(arr))\n",
    "            mul *= i\n",
    "        print(mul)\n",
    "        print(sec_mul)\n",
    "        return mul * sec_mul"
   ]
  },
  {
   "cell_type": "code",
   "execution_count": 78,
   "metadata": {},
   "outputs": [],
   "source": [
    "def choose_features(x):\n",
    "    unique, inverse, counts = np.unique(x, return_counts=True, return_inverse=True)\n",
    "#     print(unique)\n",
    "#     print(inverse)\n",
    "#     print(counts)\n",
    "    values = np.zeros(len(unique))\n",
    "    for idx, i in enumerate(unique):\n",
    "        for j in np.where(x == unique[idx]):\n",
    "            for a in j:\n",
    "                if data['Play Golf'][a] == \"Yes\":\n",
    "                    values[idx] += 1\n",
    "#     print(values)\n",
    "    values /= counts\n",
    "#     print(values)\n",
    "    for idx, i in enumerate(unique):\n",
    "        features[i] = values[idx]"
   ]
  },
  {
   "cell_type": "code",
   "execution_count": 79,
   "metadata": {
    "scrolled": false
   },
   "outputs": [
    {
     "name": "stdout",
     "output_type": "stream",
     "text": [
      "Overcast     1.000000\n",
      "Rainy        0.400000\n",
      "Sunny        0.600000\n",
      "Cool         0.750000\n",
      "Hot          0.500000\n",
      "Mild         0.666667\n",
      "High         0.428571\n",
      "Normal       0.857143\n",
      "Not Windy    0.750000\n",
      "Windy        0.500000\n",
      "dtype: float64\n"
     ]
    }
   ],
   "source": [
    "data = pd.read_csv('golf.csv', sep=',')\n",
    "work = data[['Outlook', 'Temperature', 'Humidity', 'Windy']]\n",
    "keys = work.keys()\n",
    "features = pd.Series(dtype=np.float32)\n",
    "\n",
    "for i in keys:\n",
    "    choose_features(work[i])\n",
    "print(features.head(15))"
   ]
  },
  {
   "cell_type": "code",
   "execution_count": 80,
   "metadata": {},
   "outputs": [
    {
     "name": "stdout",
     "output_type": "stream",
     "text": [
      "0 No\n",
      "(0.4, 0.5, 0.42857142857142855, 0.75)\n",
      "0.06428571428571428\n",
      "3.489030612244898\n",
      "0.22429482507288628\n",
      "1 No\n",
      "(0.4, 0.5, 0.42857142857142855, 0.5)\n",
      "0.04285714285714286\n",
      "2.612244897959184\n",
      "0.11195335276967931\n",
      "2 Yes\n",
      "(1.0, 0.5, 0.42857142857142855, 0.75)\n",
      "0.1607142857142857\n",
      "4.496173469387755\n",
      "0.7225993075801749\n",
      "3 Yes\n",
      "(0.6, 0.6666666666666666, 0.42857142857142855, 0.75)\n",
      "0.12857142857142856\n",
      "4.512046485260771\n",
      "0.5801202623906705\n",
      "4 Yes\n",
      "(0.6, 0.75, 0.8571428571428571, 0.75)\n",
      "0.28928571428571426\n",
      "6.970408163265306\n",
      "2.0164395043731775\n",
      "5 No\n",
      "(0.6, 0.75, 0.8571428571428571, 0.5)\n",
      "0.19285714285714284\n",
      "5.704336734693878\n",
      "1.100122084548105\n",
      "6 Yes\n",
      "(1.0, 0.75, 0.8571428571428571, 0.5)\n",
      "0.3214285714285714\n",
      "6.54719387755102\n",
      "2.1044551749271134\n",
      "7 No\n",
      "(0.4, 0.6666666666666666, 0.42857142857142855, 0.75)\n",
      "0.08571428571428572\n",
      "4.142998866213151\n",
      "0.35511418853255583\n",
      "8 Yes\n",
      "(0.4, 0.75, 0.8571428571428571, 0.75)\n",
      "0.1928571428571429\n",
      "6.498979591836735\n",
      "1.2533746355685134\n",
      "9 Yes\n",
      "(0.6, 0.6666666666666666, 0.8571428571428571, 0.75)\n",
      "0.2571428571428571\n",
      "6.534495464852608\n",
      "1.6802988338192417\n",
      "10 Yes\n",
      "(0.4, 0.6666666666666666, 0.8571428571428571, 0.5)\n",
      "0.11428571428571428\n",
      "4.905328798185941\n",
      "0.5606090055069647\n",
      "11 Yes\n",
      "(1.0, 0.6666666666666666, 0.42857142857142855, 0.5)\n",
      "0.14285714285714285\n",
      "4.140022675736961\n",
      "0.5914318108195658\n",
      "12 Yes\n",
      "(1.0, 0.5, 0.8571428571428571, 0.75)\n",
      "0.3214285714285714\n",
      "6.54719387755102\n",
      "2.1044551749271134\n",
      "13 No\n",
      "(0.6, 0.6666666666666666, 0.42857142857142855, 0.5)\n",
      "0.0857142857142857\n",
      "3.501927437641723\n",
      "0.3001652089407191\n"
     ]
    }
   ],
   "source": [
    "print(0, 'No')\n",
    "print(estimate_probability(features['Rainy'], features['Hot'], features['High'], features['Not Windy']))\n",
    "print(1, 'No')\n",
    "print(estimate_probability(features['Rainy'], features['Hot'], features['High'], features['Windy']))\n",
    "print(2, 'Yes')\n",
    "print(estimate_probability(features['Overcast'], features['Hot'], features['High'], features['Not Windy']))\n",
    "print(3, 'Yes')\n",
    "print(estimate_probability(features['Sunny'], features['Mild'], features['High'], features['Not Windy']))\n",
    "print(4, 'Yes')\n",
    "print(estimate_probability(features['Sunny'], features['Cool'], features['Normal'], features['Not Windy']))\n",
    "print(5, 'No')\n",
    "print(estimate_probability(features['Sunny'], features['Cool'], features['Normal'], features['Windy']))\n",
    "print(6, 'Yes')\n",
    "print(estimate_probability(features['Overcast'], features['Cool'], features['Normal'], features['Windy']))\n",
    "print(7, 'No')\n",
    "print(estimate_probability(features['Rainy'], features['Mild'], features['High'], features['Not Windy']))\n",
    "print(8, 'Yes')\n",
    "print(estimate_probability(features['Rainy'], features['Cool'], features['Normal'], features['Not Windy']))\n",
    "print(9, 'Yes')\n",
    "print(estimate_probability(features['Sunny'], features['Mild'], features['Normal'], features['Not Windy']))\n",
    "print(10, 'Yes')\n",
    "print(estimate_probability(features['Rainy'], features['Mild'], features['Normal'], features['Windy']))\n",
    "print(11, 'Yes')\n",
    "print(estimate_probability(features['Overcast'], features['Mild'], features['High'], features['Windy']))\n",
    "print(12, 'Yes')\n",
    "print(estimate_probability(features['Overcast'], features['Hot'], features['Normal'], features['Not Windy']))\n",
    "print(13, 'No')\n",
    "print(estimate_probability(features['Sunny'], features['Mild'], features['High'], features['Windy']))"
   ]
  }
 ],
 "metadata": {
  "kernelspec": {
   "display_name": "Python [conda env:root] *",
   "language": "python",
   "name": "conda-root-py"
  },
  "language_info": {
   "codemirror_mode": {
    "name": "ipython",
    "version": 3
   },
   "file_extension": ".py",
   "mimetype": "text/x-python",
   "name": "python",
   "nbconvert_exporter": "python",
   "pygments_lexer": "ipython3",
   "version": "3.8.3"
  }
 },
 "nbformat": 4,
 "nbformat_minor": 4
}
